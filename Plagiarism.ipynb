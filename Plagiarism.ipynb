{
 "cells": [
  {
   "cell_type": "markdown",
   "id": "50e536f8",
   "metadata": {},
   "source": [
    "# Data loading"
   ]
  },
  {
   "cell_type": "code",
   "execution_count": 1,
   "id": "9b4bcaf6",
   "metadata": {},
   "outputs": [],
   "source": [
    "file = open('A1.txt', 'r') \n",
    "A1 = file.readlines()[0]\n",
    "\n",
    "file = open('Asource.txt', 'r') \n",
    "A0 = file.readlines()[0]\n",
    "\n",
    "file = open('B1.txt', 'r') \n",
    "B1 = file.readlines()[0]\n",
    "\n",
    "file = open('Bsource.txt', 'r') \n",
    "B0 = file.readlines()[0]\n",
    "\n",
    "file = open('C1.txt', 'r') \n",
    "C1 = file.readlines()[0]\n",
    "\n",
    "file = open('Csource.txt', 'r') \n",
    "C0 = file.readlines()[0]\n",
    "\n",
    "file = open('D1.txt', 'r') \n",
    "D1 = file.readlines()[0]\n",
    "\n",
    "file = open('D2.txt', 'r') \n",
    "D2 = file.readlines()[0]\n",
    "\n",
    "file = open('Dsource.txt', 'r') \n",
    "D0 = file.readlines()[0]"
   ]
  },
  {
   "cell_type": "code",
   "execution_count": 2,
   "id": "ee670ca9",
   "metadata": {},
   "outputs": [
    {
     "data": {
      "text/plain": [
       "'Descartes has been heralded as the first modern philosopher. He is famous for having made an important connection between geometry and algebra, which allowed for the solving of geometrical problems by way of algebraic equations. He is also famous for having promoted a new conception of matter, which allowed for the accounting of physical phenomena by way of mechanical explanations. However, he is most famous for having written a relatively short work, Meditationes de Prima Philosophia (Meditations On First Philosophy), published in 1641, in which he provides a philosophical groundwork for the possibility of the sciences. (Smith, 2007).\\n'"
      ]
     },
     "execution_count": 2,
     "metadata": {},
     "output_type": "execute_result"
    }
   ],
   "source": [
    "C0"
   ]
  },
  {
   "cell_type": "code",
   "execution_count": 3,
   "id": "038192ab",
   "metadata": {},
   "outputs": [],
   "source": [
    "alldata = [A0, A1, B0, B1, C0, C1, D0, D1, D2]"
   ]
  },
  {
   "cell_type": "markdown",
   "id": "c2cb11fe",
   "metadata": {},
   "source": [
    "# Data preprocessing"
   ]
  },
  {
   "cell_type": "code",
   "execution_count": 5,
   "id": "be6a3285",
   "metadata": {},
   "outputs": [],
   "source": [
    "#TODO: Compute tf-idf for all documents\n",
    "from sklearn.feature_extraction.text import TfidfVectorizer\n",
    "from sklearn.feature_extraction.text import TfidfVectorizer\n",
    "tfvect = TfidfVectorizer(stop_words = 'english')\n",
    "tfvect.fit(alldata)\n",
    "tfvect.fit(alldata)\n",
    "tfidf = tfvect.transform(alldata).toarray()\n",
    "\n",
    "tfidf = tfvect.transform(alldata).toarray()\n",
    "\n",
    "TFIDFA = tfvect.transform([A0, A1]).toarray()\n",
    "TFIDFB = tfvect.transform([B0, B1]).toarray()\n",
    "TFIDFC = tfvect.transform([C0, C1]).toarray()\n",
    "TFIDFD = tfvect.transform([D0, D1, D2]).toarray()"
   ]
  },
  {
   "cell_type": "markdown",
   "id": "654a8f02",
   "metadata": {},
   "source": [
    "# Similarity computation"
   ]
  },
  {
   "cell_type": "code",
   "execution_count": 6,
   "id": "4daa59de",
   "metadata": {},
   "outputs": [],
   "source": [
    "#TODO: pair-wise similarity\n",
    "from sklearn.metrics.pairwise import cosine_similarity\n",
    "\n",
    "similarityAA = cosine_similarity(TFIDFA, TFIDFA)\n",
    "similarityBB = cosine_similarity(TFIDFB, TFIDFB)\n",
    "similarityCC = cosine_similarity(TFIDFC, TFIDFC)\n",
    "similarityDD = cosine_similarity(TFIDFD, TFIDFD)\n",
    "\n",
    "similarityAll = cosine_similarity(tfidf, tfidf)"
   ]
  },
  {
   "cell_type": "code",
   "execution_count": 7,
   "id": "621e10c2",
   "metadata": {},
   "outputs": [
    {
     "data": {
      "text/plain": [
       "array([[1.        , 0.81269313],\n",
       "       [0.81269313, 1.        ]])"
      ]
     },
     "execution_count": 7,
     "metadata": {},
     "output_type": "execute_result"
    }
   ],
   "source": [
    "similarityAA"
   ]
  },
  {
   "cell_type": "code",
   "execution_count": 8,
   "id": "2b3a021d",
   "metadata": {},
   "outputs": [
    {
     "data": {
      "text/plain": [
       "array([[1.       , 0.6145188],\n",
       "       [0.6145188, 1.       ]])"
      ]
     },
     "execution_count": 8,
     "metadata": {},
     "output_type": "execute_result"
    }
   ],
   "source": [
    "similarityBB"
   ]
  },
  {
   "cell_type": "code",
   "execution_count": 9,
   "id": "f144cded",
   "metadata": {},
   "outputs": [
    {
     "data": {
      "text/plain": [
       "array([[1.        , 0.79523042],\n",
       "       [0.79523042, 1.        ]])"
      ]
     },
     "execution_count": 9,
     "metadata": {},
     "output_type": "execute_result"
    }
   ],
   "source": [
    "similarityCC"
   ]
  },
  {
   "cell_type": "code",
   "execution_count": 10,
   "id": "19d099f4",
   "metadata": {},
   "outputs": [
    {
     "data": {
      "text/plain": [
       "array([[1.        , 0.89063354, 0.29631597],\n",
       "       [0.89063354, 1.        , 0.29102482],\n",
       "       [0.29631597, 0.29102482, 1.        ]])"
      ]
     },
     "execution_count": 10,
     "metadata": {},
     "output_type": "execute_result"
    }
   ],
   "source": [
    "similarityDD"
   ]
  },
  {
   "cell_type": "code",
   "execution_count": 11,
   "id": "f7153441",
   "metadata": {},
   "outputs": [
    {
     "data": {
      "text/plain": [
       "array([[1.        , 0.81269313, 0.        , 0.        , 0.        ,\n",
       "        0.        , 0.01155606, 0.01134971, 0.01107722],\n",
       "       [0.81269313, 1.        , 0.01385794, 0.01433889, 0.01459315,\n",
       "        0.01826465, 0.01214488, 0.01192802, 0.01164164],\n",
       "       [0.        , 0.01385794, 1.        , 0.6145188 , 0.02434957,\n",
       "        0.        , 0.01095688, 0.01076123, 0.        ],\n",
       "       [0.        , 0.01433889, 0.6145188 , 1.        , 0.01084673,\n",
       "        0.        , 0.01133714, 0.0111347 , 0.        ],\n",
       "       [0.        , 0.01459315, 0.02434957, 0.01084673, 1.        ,\n",
       "        0.79523042, 0.        , 0.        , 0.01416745],\n",
       "       [0.        , 0.01826465, 0.        , 0.        , 0.79523042,\n",
       "        1.        , 0.        , 0.        , 0.01773184],\n",
       "       [0.01155606, 0.01214488, 0.01095688, 0.01133714, 0.        ,\n",
       "        0.        , 1.        , 0.89063354, 0.29631597],\n",
       "       [0.01134971, 0.01192802, 0.01076123, 0.0111347 , 0.        ,\n",
       "        0.        , 0.89063354, 1.        , 0.29102482],\n",
       "       [0.01107722, 0.01164164, 0.        , 0.        , 0.01416745,\n",
       "        0.01773184, 0.29631597, 0.29102482, 1.        ]])"
      ]
     },
     "execution_count": 11,
     "metadata": {},
     "output_type": "execute_result"
    }
   ],
   "source": [
    "similarityAll"
   ]
  },
  {
   "cell_type": "code",
   "execution_count": 13,
   "id": "848b00ec",
   "metadata": {},
   "outputs": [
    {
     "data": {
      "image/png": "[encoded data removed]",
      "text/plain": [
       "<Figure size 640x480 with 1 Axes>"
      ]
     },
     "metadata": {},
     "output_type": "display_data"
    }
   ],
   "source": [
    "import matplotlib.pyplot as plt\n",
    "\n",
    "#TODO: show pair-wise similarity\n",
    "plt.imshow(similarityAll)\n",
    "plt.show()"
   ]
  },
  {
   "cell_type": "markdown",
   "id": "d07aeea3",
   "metadata": {},
   "source": [
    "# Threshold definition"
   ]
  },
  {
   "cell_type": "code",
   "execution_count": 14,
   "id": "818c673d",
   "metadata": {},
   "outputs": [
    {
     "data": {
      "image/png": "[encoded data removed]",
      "text/plain": [
       "<Figure size 640x480 with 1 Axes>"
      ]
     },
     "metadata": {},
     "output_type": "display_data"
    }
   ],
   "source": [
    "pred_plagiarism = similarityAll>0.2\n",
    "plt.imshow(pred_plagiarism)\n",
    "plt.show()\n",
    "#TODO: show pair-wise similarity"
   ]
  },
  {
   "cell_type": "markdown",
   "id": "e7ac9d1a",
   "metadata": {},
   "source": [
    "# Perf estimation"
   ]
  },
  {
   "cell_type": "code",
   "execution_count": 15,
   "id": "0ea6784f",
   "metadata": {},
   "outputs": [],
   "source": [
    "import numpy as np\n",
    "real_plagiarism = np.zeros((9,9))\n",
    "for i in range(len(real_plagiarism)):\n",
    "    real_plagiarism[i, i] = 1\n",
    "    if i==0 or i==2 or i==4:\n",
    "        real_plagiarism[i, i+1] = 1\n",
    "        real_plagiarism[i+1, i] = 1\n",
    "    if i==6:\n",
    "        real_plagiarism[i, i+1] = 1\n",
    "        real_plagiarism[i+1, i] = 1\n",
    "        real_plagiarism[i, i+2] = 1\n",
    "        real_plagiarism[i+2, i] = 1\n",
    "        real_plagiarism[i+1, i+2] = 1\n",
    "        real_plagiarism[i+2, i+1] = 1\n",
    "# TODO: build the true labels matrix (to do automatically would be better...)       "
   ]
  },
  {
   "cell_type": "code",
   "execution_count": 16,
   "id": "145d4e5c",
   "metadata": {},
   "outputs": [
    {
     "data": {
      "image/png": "[encoded data removed]",
      "text/plain": [
       "<Figure size 640x480 with 1 Axes>"
      ]
     },
     "metadata": {},
     "output_type": "display_data"
    }
   ],
   "source": [
    "import matplotlib.pyplot as plt\n",
    "plt.imshow(real_plagiarism)\n",
    "plt.show()"
   ]
  },
  {
   "cell_type": "code",
   "execution_count": 18,
   "id": "7ba54b23",
   "metadata": {},
   "outputs": [
    {
     "data": {
      "text/plain": [
       "1.0"
      ]
     },
     "execution_count": 18,
     "metadata": {},
     "output_type": "execute_result"
    }
   ],
   "source": [
    "from sklearn.metrics import accuracy_score\n",
    "\n",
    "#TODO: compute the accuracy score based on true matrices\n",
    "accuracy_score(real_plagiarism, pred_plagiarism)"
   ]
  }
 ],
 "metadata": {
  "kernelspec": {
   "display_name": "Python 3 (ipykernel)",
   "language": "python",
   "name": "python3"
  },
  "language_info": {
   "codemirror_mode": {
    "name": "ipython",
    "version": 3
   },
   "file_extension": ".py",
   "mimetype": "text/x-python",
   "name": "python",
   "nbconvert_exporter": "python",
   "pygments_lexer": "ipython3",
   "version": "3.11.5"
  }
 },
 "nbformat": 4,
 "nbformat_minor": 5
}
